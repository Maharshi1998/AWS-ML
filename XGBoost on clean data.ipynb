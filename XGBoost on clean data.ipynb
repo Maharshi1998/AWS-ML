{
 "cells": [
  {
   "cell_type": "code",
   "execution_count": 1,
   "id": "bb86a2e1",
   "metadata": {},
   "outputs": [
    {
     "name": "stderr",
     "output_type": "stream",
     "text": [
      "/home/ec2-user/anaconda3/envs/python3/lib/python3.10/site-packages/pandas/core/computation/expressions.py:21: UserWarning: Pandas requires version '2.8.0' or newer of 'numexpr' (version '2.7.3' currently installed).\n",
      "  from pandas.core.computation.check import NUMEXPR_INSTALLED\n"
     ]
    }
   ],
   "source": [
    "# import importnt libraries such as numpy , pandas\n",
    "import pandas as pd\n",
    "import numpy as np\n",
    "import matplotlib.pyplot as plt\n",
    "import seaborn as sns"
   ]
  },
  {
   "cell_type": "code",
   "execution_count": 2,
   "id": "4ea7399a",
   "metadata": {},
   "outputs": [
    {
     "name": "stderr",
     "output_type": "stream",
     "text": [
      "/home/ec2-user/anaconda3/envs/python3/lib/python3.10/site-packages/fsspec/registry.py:272: UserWarning: Your installed version of s3fs is very old and known to cause\n",
      "severe performance issues, see also https://github.com/dask/dask/issues/10276\n",
      "\n",
      "To fix, you should specify a lower version bound on s3fs, or\n",
      "update the current installation.\n",
      "\n",
      "  warnings.warn(s3_msg)\n"
     ]
    },
    {
     "data": {
      "text/html": [
       "<div>\n",
       "<style scoped>\n",
       "    .dataframe tbody tr th:only-of-type {\n",
       "        vertical-align: middle;\n",
       "    }\n",
       "\n",
       "    .dataframe tbody tr th {\n",
       "        vertical-align: top;\n",
       "    }\n",
       "\n",
       "    .dataframe thead th {\n",
       "        text-align: right;\n",
       "    }\n",
       "</style>\n",
       "<table border=\"1\" class=\"dataframe\">\n",
       "  <thead>\n",
       "    <tr style=\"text-align: right;\">\n",
       "      <th></th>\n",
       "      <th>name</th>\n",
       "      <th>diameter</th>\n",
       "      <th>weight</th>\n",
       "      <th>red</th>\n",
       "      <th>green</th>\n",
       "      <th>blue</th>\n",
       "    </tr>\n",
       "  </thead>\n",
       "  <tbody>\n",
       "    <tr>\n",
       "      <th>0</th>\n",
       "      <td>orange</td>\n",
       "      <td>2.96</td>\n",
       "      <td>86.76</td>\n",
       "      <td>172</td>\n",
       "      <td>85</td>\n",
       "      <td>2</td>\n",
       "    </tr>\n",
       "    <tr>\n",
       "      <th>1</th>\n",
       "      <td>orange</td>\n",
       "      <td>3.91</td>\n",
       "      <td>88.05</td>\n",
       "      <td>166</td>\n",
       "      <td>78</td>\n",
       "      <td>3</td>\n",
       "    </tr>\n",
       "    <tr>\n",
       "      <th>2</th>\n",
       "      <td>orange</td>\n",
       "      <td>4.42</td>\n",
       "      <td>95.17</td>\n",
       "      <td>156</td>\n",
       "      <td>81</td>\n",
       "      <td>2</td>\n",
       "    </tr>\n",
       "    <tr>\n",
       "      <th>3</th>\n",
       "      <td>orange</td>\n",
       "      <td>4.47</td>\n",
       "      <td>95.60</td>\n",
       "      <td>163</td>\n",
       "      <td>81</td>\n",
       "      <td>4</td>\n",
       "    </tr>\n",
       "    <tr>\n",
       "      <th>4</th>\n",
       "      <td>orange</td>\n",
       "      <td>4.48</td>\n",
       "      <td>95.76</td>\n",
       "      <td>161</td>\n",
       "      <td>72</td>\n",
       "      <td>9</td>\n",
       "    </tr>\n",
       "  </tbody>\n",
       "</table>\n",
       "</div>"
      ],
      "text/plain": [
       "     name  diameter  weight  red  green  blue\n",
       "0  orange      2.96   86.76  172     85     2\n",
       "1  orange      3.91   88.05  166     78     3\n",
       "2  orange      4.42   95.17  156     81     2\n",
       "3  orange      4.47   95.60  163     81     4\n",
       "4  orange      4.48   95.76  161     72     9"
      ]
     },
     "execution_count": 2,
     "metadata": {},
     "output_type": "execute_result"
    }
   ],
   "source": [
    "#load the datasetfrom the day8mmm bucket.\n",
    "df = pd.read_csv(\"s3://day8mmm/citrus.csv\")   \n",
    "df.head()"
   ]
  },
  {
   "cell_type": "code",
   "execution_count": 3,
   "id": "55cb42a4",
   "metadata": {},
   "outputs": [
    {
     "data": {
      "text/plain": [
       "<bound method DataFrame.info of             name  diameter  weight  red  green  blue\n",
       "0         orange      2.96   86.76  172     85     2\n",
       "1         orange      3.91   88.05  166     78     3\n",
       "2         orange      4.42   95.17  156     81     2\n",
       "3         orange      4.47   95.60  163     81     4\n",
       "4         orange      4.48   95.76  161     72     9\n",
       "...          ...       ...     ...  ...    ...   ...\n",
       "9995  grapefruit     15.35  253.89  149     77    20\n",
       "9996  grapefruit     15.41  254.67  148     68     7\n",
       "9997  grapefruit     15.59  256.50  168     82    20\n",
       "9998  grapefruit     15.92  260.14  142     72    11\n",
       "9999  grapefruit     16.45  261.51  152     74     2\n",
       "\n",
       "[10000 rows x 6 columns]>"
      ]
     },
     "execution_count": 3,
     "metadata": {},
     "output_type": "execute_result"
    }
   ],
   "source": [
    "#here we get the basic information of the data\n",
    "df.info"
   ]
  },
  {
   "cell_type": "code",
   "execution_count": 4,
   "id": "d482d4b3",
   "metadata": {},
   "outputs": [
    {
     "data": {
      "text/plain": [
       "name        0\n",
       "diameter    0\n",
       "weight      0\n",
       "red         0\n",
       "green       0\n",
       "blue        0\n",
       "dtype: int64"
      ]
     },
     "execution_count": 4,
     "metadata": {},
     "output_type": "execute_result"
    }
   ],
   "source": [
    "#checking the nullvaules in the dataset\n",
    "df.isnull().sum()"
   ]
  },
  {
   "cell_type": "code",
   "execution_count": 5,
   "id": "2134baf7",
   "metadata": {},
   "outputs": [
    {
     "data": {
      "text/plain": [
       "array(['orange', 'grapefruit'], dtype=object)"
      ]
     },
     "execution_count": 5,
     "metadata": {},
     "output_type": "execute_result"
    }
   ],
   "source": [
    "#check the univlues in the column name\n",
    "df.name.unique()"
   ]
  },
  {
   "cell_type": "code",
   "execution_count": 6,
   "id": "154cdb63",
   "metadata": {},
   "outputs": [],
   "source": [
    "#change the obj type to int for the binry classification \n",
    "df['name'] = df['name'].map({'grapefruit': 1, 'orange': 0}) "
   ]
  },
  {
   "cell_type": "code",
   "execution_count": 7,
   "id": "e000989e",
   "metadata": {},
   "outputs": [
    {
     "data": {
      "text/plain": [
       "array([0, 1])"
      ]
     },
     "execution_count": 7,
     "metadata": {},
     "output_type": "execute_result"
    }
   ],
   "source": [
    "#check agin for the execution\n",
    "df.name.unique()"
   ]
  },
  {
   "cell_type": "code",
   "execution_count": 8,
   "id": "d5caf2ae",
   "metadata": {},
   "outputs": [
    {
     "data": {
      "text/plain": [
       "<Axes: xlabel='name', ylabel='count'>"
      ]
     },
     "execution_count": 8,
     "metadata": {},
     "output_type": "execute_result"
    },
    {
     "data": {
      "image/png": "[encoded data removed]",
      "text/plain": [
       "<Figure size 640x480 with 1 Axes>"
      ]
     },
     "metadata": {},
     "output_type": "display_data"
    }
   ],
   "source": [
    "sns.countplot(x=df['name'], data=df)    # countplot of target variable also we can see that the data distribution is almost equal. "
   ]
  },
  {
   "cell_type": "markdown",
   "id": "ae160f61",
   "metadata": {},
   "source": [
    "#import boto3 and sagemaker and get the execution role, with region , and defining the BUCKET '''day8mmm'''given the prefix of identity fruit."
   ]
  },
  {
   "cell_type": "code",
   "execution_count": 9,
   "id": "fe7b9b2b",
   "metadata": {},
   "outputs": [
    {
     "name": "stdout",
     "output_type": "stream",
     "text": [
      "sagemaker.config INFO - Not applying SDK defaults from location: /etc/xdg/sagemaker/config.yaml\n",
      "sagemaker.config INFO - Not applying SDK defaults from location: /home/ec2-user/.config/sagemaker/config.yaml\n",
      "sagemaker.config INFO - Not applying SDK defaults from location: /etc/xdg/sagemaker/config.yaml\n",
      "sagemaker.config INFO - Not applying SDK defaults from location: /home/ec2-user/.config/sagemaker/config.yaml\n",
      "us-east-1\n"
     ]
    }
   ],
   "source": [
    "#import boto3\n",
    "import os\n",
    "import boto3\n",
    "import re\n",
    "import sagemaker\n",
    "\n",
    "role = sagemaker.get_execution_role()   \n",
    "region = boto3.Session().region_name   \n",
    "smclient = boto3.Session().client(\"sagemaker\")    \n",
    "bucket = \"day8mmm\"\n",
    "prefix = (\"identifyfruit\") \n",
    "print (region)"
   ]
  },
  {
   "cell_type": "raw",
   "id": "38016d01",
   "metadata": {},
   "source": [
    "# splitting dataset  into train,70% validation20% and 10% test.also set the target variable name and drop from the x."
   ]
  },
  {
   "cell_type": "code",
   "execution_count": 10,
   "id": "ebce1804",
   "metadata": {},
   "outputs": [
    {
     "name": "stderr",
     "output_type": "stream",
     "text": [
      "/home/ec2-user/anaconda3/envs/python3/lib/python3.10/site-packages/numpy/core/fromnumeric.py:57: FutureWarning: 'DataFrame.swapaxes' is deprecated and will be removed in a future version. Please use 'DataFrame.transpose' instead.\n",
      "  return bound(*args, **kwds)\n"
     ]
    }
   ],
   "source": [
    "\n",
    "train_data, validation_data, test_data = np.split(df.sample(frac=1, random_state=1729),[int(0.7 * len(df)), int(0.9 * len(df))])\n",
    "\n",
    "pd.concat([train_data[\"name\"], train_data.drop(\"name\", axis=1)], axis=1).to_csv(\n",
    " \"train.csv\", index=False, header=False\n",
    ")  \n",
    "pd.concat([validation_data[\"name\"], validation_data.drop(\"name\", axis=1)], axis=1).to_csv(\n",
    "    \"validation.csv\", index=False, header=False)\n",
    "pd.concat([test_data[\"name\"], test_data.drop(\"name\", axis=1)], axis=1).to_csv(\n",
    " \"test.csv\", index=False, header=False\n",
    ")"
   ]
  },
  {
   "cell_type": "code",
   "execution_count": 11,
   "id": "cda5f40c",
   "metadata": {},
   "outputs": [],
   "source": [
    "# Assign the target variable(wnat to predict variable) and the independent variables (features)for the traning and testing set.\n",
    "train_y = train_data[\"name\"]\n",
    "train_X = train_data.drop(\"name\", axis=1)\n",
    "test_y = test_data[\"name\"]\n",
    "test_X = test_data.drop(\"name\", axis=1)\n"
   ]
  },
  {
   "cell_type": "code",
   "execution_count": 12,
   "id": "b3b5175c",
   "metadata": {},
   "outputs": [],
   "source": [
    "# by using the boto3 we save the validation and train files into the s3 bucket with specific prefix.\n",
    "boto3.Session().resource(\"s3\").Bucket(bucket).Object(\n",
    " os.path.join(prefix, \"train/train.csv\")\n",
    ").upload_file(\"train.csv\")\n",
    "boto3.Session().resource(\"s3\").Bucket(bucket).Object(\n",
    " os.path.join(prefix, \"validation/validation.csv\")\n",
    ").upload_file(\"validation.csv\")"
   ]
  },
  {
   "cell_type": "code",
   "execution_count": 13,
   "id": "a23d74dc",
   "metadata": {},
   "outputs": [
    {
     "name": "stdout",
     "output_type": "stream",
     "text": [
      "Accuracy: 0.984\n"
     ]
    }
   ],
   "source": [
    "import pandas as pd\n",
    "from sklearn.model_selection import train_test_split\n",
    "import xgboost as xgb\n",
    "from sklearn.metrics import accuracy_score\n",
    "\n",
    "X = df.drop([\"name\"], axis=1)  \n",
    "y = df[\"name\"]\n",
    "\n",
    "X_train, X_test, y_train, y_test = train_test_split(X, y, test_size=0.2, random_state=42)\n",
    "\n",
    "# Step 2: XGBoost Model Training\n",
    "xg_cls = xgb.XGBClassifier(objective='binary:logistic', seed=42)\n",
    "xg_cls.fit(X_train, y_train)\n",
    "\n",
    "# Step 3: Model Evaluation\n",
    "y_pred = xg_cls.predict(X_test)\n",
    "accuracy = accuracy_score(y_test, y_pred)\n",
    "print(f'Accuracy: {accuracy}')"
   ]
  },
  {
   "cell_type": "code",
   "execution_count": 17,
   "id": "dfa792d5",
   "metadata": {},
   "outputs": [
    {
     "name": "stdout",
     "output_type": "stream",
     "text": [
      "              precision    recall  f1-score   support\n",
      "\n",
      "           0       0.97      0.92      0.95       505\n",
      "           1       0.92      0.97      0.95       495\n",
      "\n",
      "    accuracy                           0.95      1000\n",
      "   macro avg       0.95      0.95      0.95      1000\n",
      "weighted avg       0.95      0.95      0.95      1000\n",
      "\n"
     ]
    }
   ],
   "source": [
    "#logistic regressions \n",
    "from sklearn.linear_model import LogisticRegression\n",
    "from sklearn.metrics import classification_report\n",
    "logmodel = LogisticRegression()\n",
    "logmodel.fit(train_X,train_y)\n",
    "\n",
    "predictions = logmodel.predict(test_X)\n",
    "print(classification_report(test_y,predictions))\n"
   ]
  },
  {
   "cell_type": "markdown",
   "id": "e1ae63ec",
   "metadata": {},
   "source": [
    "In the hp tuning job we generate the unique job name and time,during the configration learning rate (eta),set the minimum sum of the weight in chid with min 1 and max 10 "
   ]
  },
  {
   "cell_type": "code",
   "execution_count": 18,
   "id": "d8ec8078",
   "metadata": {},
   "outputs": [
    {
     "name": "stdout",
     "output_type": "stream",
     "text": [
      "xgboost-tuningjob-29-10-25-03\n"
     ]
    }
   ],
   "source": [
    "from time import gmtime, strftime, sleep\n",
    "\n",
    "tuning_job_name = \"xgboost-tuningjob-\" + strftime(\"%d-%H-%M-%S\", gmtime())#name and time\n",
    "print(tuning_job_name)\n",
    "\n",
    "# config tuning job\n",
    "tuning_job_config = {\n",
    "    \"ParameterRanges\": {\n",
    "        \"CategoricalParameterRanges\": [],\n",
    "        \"ContinuousParameterRanges\": [\n",
    "            {\n",
    "                \"MaxValue\": \"1\",\n",
    "                \"MinValue\": \"0\",\n",
    "                \"Name\": \"eta\",     \n",
    "            },\n",
    "            {\n",
    "                \"MaxValue\": \"10\",\n",
    "                \"MinValue\": \"1\",\n",
    "                \"Name\": \"min_child_weight\",    \n",
    "            },\n",
    "            {\n",
    "                \"MaxValue\": \"2\",\n",
    "                \"MinValue\": \"0\",\n",
    "                \"Name\": \"alpha\",    # # L1 regularization term\n",
    "            },\n",
    "        ],\n",
    "        \"IntegerParameterRanges\": [\n",
    "            {\n",
    "                \"MaxValue\": \"10\",\n",
    "                \"MinValue\": \"1\",\n",
    "                \"Name\": \"max_depth\",    # Maximum depth of a tree\n",
    "            }\n",
    "        ],\n",
    "    },\n",
    "    \"ResourceLimits\": {\"MaxNumberOfTrainingJobs\": 10, \"MaxParallelTrainingJobs\": 3},\n",
    "    \"Strategy\": \"Bayesian\",\n",
    "    \"HyperParameterTuningJobObjective\": {\"MetricName\": \"validation:accuracy\", \"Type\": \"Maximize\"},\n",
    "}"
   ]
  },
  {
   "cell_type": "code",
   "execution_count": 19,
   "id": "054fde4a",
   "metadata": {},
   "outputs": [],
   "source": [
    "from sagemaker.image_uris import retrieve\n",
    "\n",
    "training_image = retrieve(framework=\"xgboost\", region=region, version=\"1.5-1\")    # Retrieving the URI of the pre-built Docker image for XGBoost\n",
    "\n",
    "# S3 input paths for training and validation data\n",
    "s3_input_train = \"s3://{}/{}/train\".format(bucket, prefix)\n",
    "s3_input_validation = \"s3://{}/{}/validation/\".format(bucket, prefix)\n",
    "\n",
    "# configuration for the SageMaker training job\n",
    "training_job_definition = {\n",
    "    \"AlgorithmSpecification\": {\"TrainingImage\": training_image, \"TrainingInputMode\": \"File\"},    # algorithm and its training image\n",
    "    \"InputDataConfig\": [    # input data configuration for training and validation\n",
    "        {\n",
    "            \"ChannelName\": \"train\",    # Channel name for training data\n",
    "            \"CompressionType\": \"None\",\n",
    "            \"ContentType\": \"csv\",\n",
    "            \"DataSource\": {\n",
    "                \"S3DataSource\": {\n",
    "                    \"S3DataDistributionType\": \"FullyReplicated\",\n",
    "                    \"S3DataType\": \"S3Prefix\",\n",
    "                    \"S3Uri\": s3_input_train,    # S3 path for training data\n",
    "                }\n",
    "            },\n",
    "        },\n",
    "        {\n",
    "            \"ChannelName\": \"validation\",    # Channel name for validation data\n",
    "            \"CompressionType\": \"None\",\n",
    "            \"ContentType\": \"csv\",\n",
    "            \"DataSource\": {\n",
    "                \"S3DataSource\": {\n",
    "                    \"S3DataDistributionType\": \"FullyReplicated\",\n",
    "                    \"S3DataType\": \"S3Prefix\",\n",
    "                    \"S3Uri\": s3_input_validation,   # S3 path for validation data\n",
    "                }\n",
    "            },\n",
    "        },\n",
    "    ],\n",
    "    \"OutputDataConfig\": {\"S3OutputPath\": \"s3://{}/{}/output\".format(bucket, prefix)},    # output data configuration for storing model artifacts\n",
    "    \"ResourceConfig\": {\"InstanceCount\": 1, \"InstanceType\": \"ml.m4.xlarge\", \"VolumeSizeInGB\": 10},    # resource configuration for training instances\n",
    "    \"RoleArn\": role,   # IAM role \n",
    "    \"StaticHyperParameters\": {    # static hyperparameters for the XGBoost algorithm\n",
    "        \"eval_metric\": \"auc\",\n",
    "        \"num_round\": \"100\",\n",
    "        \"objective\": \"binary:logistic\",\n",
    "        \"rate_drop\": \"0.3\",\n",
    "        \"tweedie_variance_power\": \"1.4\",\n",
    "    },\n",
    "    \"StoppingCondition\": {\"MaxRuntimeInSeconds\": 43200},    #  stopping conditions for the training job\n",
    "}"
   ]
  },
  {
   "cell_type": "code",
   "execution_count": 20,
   "id": "bfe50324",
   "metadata": {},
   "outputs": [
    {
     "data": {
      "text/plain": [
       "{'HyperParameterTuningJobArn': 'arn:aws:sagemaker:us-east-1:263245924849:hyper-parameter-tuning-job/xgboost-tuningjob-29-10-25-03',\n",
       " 'ResponseMetadata': {'RequestId': '80f74e51-e879-4e06-aaea-c40a1e7dd6fa',\n",
       "  'HTTPStatusCode': 200,\n",
       "  'HTTPHeaders': {'x-amzn-requestid': '80f74e51-e879-4e06-aaea-c40a1e7dd6fa',\n",
       "   'content-type': 'application/x-amz-json-1.1',\n",
       "   'content-length': '130',\n",
       "   'date': 'Wed, 29 Nov 2023 10:25:25 GMT'},\n",
       "  'RetryAttempts': 0}}"
      ]
     },
     "execution_count": 20,
     "metadata": {},
     "output_type": "execute_result"
    }
   ],
   "source": [
    "# creating the hyperparameter tuning job\n",
    "smclient.create_hyper_parameter_tuning_job(\n",
    "    HyperParameterTuningJobName=tuning_job_name,\n",
    "    HyperParameterTuningJobConfig=tuning_job_config,\n",
    "    TrainingJobDefinition=training_job_definition,\n",
    ")"
   ]
  },
  {
   "cell_type": "code",
   "execution_count": 21,
   "id": "83308be3",
   "metadata": {},
   "outputs": [
    {
     "data": {
      "text/plain": [
       "'InProgress'"
      ]
     },
     "execution_count": 21,
     "metadata": {},
     "output_type": "execute_result"
    }
   ],
   "source": [
    "# status of hp\n",
    "smclient.describe_hyper_parameter_tuning_job(HyperParameterTuningJobName=tuning_job_name)[\"HyperParameterTuningJobStatus\"]"
   ]
  },
  {
   "cell_type": "code",
   "execution_count": 28,
   "id": "f7586e0a",
   "metadata": {},
   "outputs": [
    {
     "data": {
      "text/plain": [
       "'xgboost-tuningjob-28-20-26-32'"
      ]
     },
     "execution_count": 28,
     "metadata": {},
     "output_type": "execute_result"
    }
   ],
   "source": [
    "# Job name of hp\n",
    "smclient.describe_hyper_parameter_tuning_job(HyperParameterTuningJobName=tuning_job_name)['HyperParameterTuningJobName']"
   ]
  },
  {
   "cell_type": "code",
   "execution_count": 22,
   "id": "c2e0f19d",
   "metadata": {},
   "outputs": [
    {
     "name": "stdout",
     "output_type": "stream",
     "text": [
      "10 training jobs have completed\n"
     ]
    }
   ],
   "source": [
    "# run this cell to check current status of hyperparameter tuning job\n",
    "tuning_job_result = smclient.describe_hyper_parameter_tuning_job(\n",
    "    HyperParameterTuningJobName=tuning_job_name\n",
    ")\n",
    "\n",
    "status = tuning_job_result[\"HyperParameterTuningJobStatus\"]\n",
    "if status != \"Completed\":\n",
    "    print(\"Reminder: the tuning job has not been completed.\")\n",
    "\n",
    "job_count = tuning_job_result[\"TrainingJobStatusCounters\"][\"Completed\"]\n",
    "print(\"%d training jobs have completed\" % job_count)\n",
    "\n",
    "objective = tuning_job_result[\"HyperParameterTuningJobConfig\"][\"HyperParameterTuningJobObjective\"]\n",
    "is_minimize = objective[\"Type\"] != \"Maximize\"\n",
    "objective_name = objective[\"MetricName\"]"
   ]
  },
  {
   "cell_type": "code",
   "execution_count": 23,
   "id": "4be7a157",
   "metadata": {},
   "outputs": [
    {
     "name": "stdout",
     "output_type": "stream",
     "text": [
      "Best model found so far:\n",
      "{'CreationTime': datetime.datetime(2023, 11, 29, 10, 25, 33, tzinfo=tzlocal()),\n",
      " 'FinalHyperParameterTuningJobObjectiveMetric': {'MetricName': 'validation:accuracy',\n",
      "                                                 'Value': 0.9819999933242798},\n",
      " 'ObjectiveStatus': 'Succeeded',\n",
      " 'TrainingEndTime': datetime.datetime(2023, 11, 29, 10, 29, 27, tzinfo=tzlocal()),\n",
      " 'TrainingJobArn': 'arn:aws:sagemaker:us-east-1:263245924849:training-job/xgboost-tuningjob-29-10-25-03-003-5ec2f4b8',\n",
      " 'TrainingJobName': 'xgboost-tuningjob-29-10-25-03-003-5ec2f4b8',\n",
      " 'TrainingJobStatus': 'Completed',\n",
      " 'TrainingStartTime': datetime.datetime(2023, 11, 29, 10, 27, 30, tzinfo=tzlocal()),\n",
      " 'TunedHyperParameters': {'alpha': '0.2717722184629703',\n",
      "                          'eta': '0.6120249159639731',\n",
      "                          'max_depth': '5',\n",
      "                          'min_child_weight': '1.6780671799069247'}}\n"
     ]
    }
   ],
   "source": [
    "from pprint import pprint\n",
    "# extracting best training job from the rest\n",
    "if tuning_job_result.get(\"BestTrainingJob\", None):\n",
    "    print(\"Best model found so far:\")\n",
    "    pprint(tuning_job_result[\"BestTrainingJob\"])\n",
    "else:\n",
    "    print(\"No training jobs have reported results yet.\")"
   ]
  },
  {
   "cell_type": "code",
   "execution_count": 24,
   "id": "d12dc97e",
   "metadata": {},
   "outputs": [
    {
     "name": "stdout",
     "output_type": "stream",
     "text": [
      "Job name is: xgboost-2023-11-29-10-33-50\n"
     ]
    }
   ],
   "source": [
    "# Now training the model with the best hp values\n",
    "xgboost_job = \"xgboost-\" + strftime(\"%Y-%m-%d-%H-%M-%S\", gmtime())\n",
    "print(\"Job name is:\", xgboost_job)\n",
    "\n",
    "s3_input_train = \"s3://{}/{}/train\".format(bucket, prefix)\n",
    "s3_input_validation = \"s3://{}/{}/validation/\".format(bucket, prefix)\n",
    "\n",
    "training_job_definition = {\n",
    "    \"RoleArn\": role,\n",
    "    \"TrainingJobName\": xgboost_job,\n",
    "    \"AlgorithmSpecification\": {\"TrainingImage\": training_image, \"TrainingInputMode\": \"File\"},\n",
    "    \"InputDataConfig\": [\n",
    "        {\n",
    "            \"ChannelName\": \"train\",\n",
    "            \"CompressionType\": \"None\",\n",
    "            \"ContentType\": \"csv\",\n",
    "            \"DataSource\": {\n",
    "                \"S3DataSource\": {\n",
    "                    \"S3DataDistributionType\": \"FullyReplicated\",\n",
    "                    \"S3DataType\": \"S3Prefix\",\n",
    "                    \"S3Uri\": s3_input_train,\n",
    "                }\n",
    "            },\n",
    "        },\n",
    "        {\n",
    "            \"ChannelName\": \"validation\",\n",
    "            \"CompressionType\": \"None\",\n",
    "            \"ContentType\": \"csv\",\n",
    "            \"DataSource\": {\n",
    "                \"S3DataSource\": {\n",
    "                    \"S3DataDistributionType\": \"FullyReplicated\",\n",
    "                    \"S3DataType\": \"S3Prefix\",\n",
    "                    \"S3Uri\": s3_input_validation,\n",
    "                }\n",
    "            },\n",
    "        },\n",
    "    ],\n",
    "    \"OutputDataConfig\": {\"S3OutputPath\": \"s3://{}/{}/output\".format(bucket, prefix)},\n",
    "    \"ResourceConfig\": {\"InstanceCount\": 1, \"InstanceType\": \"ml.m4.xlarge\", \"VolumeSizeInGB\": 10},\n",
    "    \"RoleArn\": role,\n",
    "    \"HyperParameters\": {\n",
    "        \"eval_metric\": \"auc\",\n",
    "        \"num_round\": \"100\",\n",
    "        \"objective\": \"binary:logistic\",\n",
    "        \"rate_drop\": \"0.3\",\n",
    "        \"tweedie_variance_power\": \"1.4\",\n",
    "        'alpha': '0.2717722184629703',\n",
    "         'eta': '0.6120249159639731',\n",
    "           'max_depth': '5',\n",
    "         'min_child_weight': '1.6780671799069247'\n",
    "    },\n",
    "    \"StoppingCondition\": {\"MaxRuntimeInSeconds\": 43200},\n",
    "}"
   ]
  },
  {
   "cell_type": "code",
   "execution_count": 25,
   "id": "7f7235d8",
   "metadata": {},
   "outputs": [
    {
     "name": "stdout",
     "output_type": "stream",
     "text": [
      "InProgress\n"
     ]
    }
   ],
   "source": [
    "sm = boto3.client(\"sagemaker\")\n",
    "sm.create_training_job(**training_job_definition)\n",
    "# checking the status of training\n",
    "status = sm.describe_training_job(TrainingJobName=xgboost_job)[\"TrainingJobStatus\"]\n",
    "print(status)\n",
    "sm.get_waiter(\"training_job_completed_or_stopped\").wait(TrainingJobName=xgboost_job)\n",
    "if status == \"Failed\":\n",
    "    message = sm.describe_training_job(TrainingJobName=xgboost_job)[\"FailureReason\"]\n",
    "    print(\"Training failed with the following error: {}\".format(message))\n",
    "    raise Exception(\"Training job failed\")"
   ]
  },
  {
   "cell_type": "code",
   "execution_count": 26,
   "id": "7a9a6875",
   "metadata": {},
   "outputs": [
    {
     "name": "stdout",
     "output_type": "stream",
     "text": [
      "arn:aws:sagemaker:us-east-1:263245924849:model/xgboost-2023-11-29-10-33-50\n"
     ]
    }
   ],
   "source": [
    "# creating a model using the specified configuration.\n",
    "xgboost_hosting_container = {\n",
    "    \"Image\": training_image,\n",
    "    \"ModelDataUrl\": sm.describe_training_job(TrainingJobName=xgboost_job)[\"ModelArtifacts\"][\n",
    "        \"S3ModelArtifacts\"\n",
    "    ],\n",
    "}\n",
    "\n",
    "create_model_response = sm.create_model(\n",
    "    ModelName=xgboost_job, ExecutionRoleArn=role, PrimaryContainer=xgboost_hosting_container\n",
    ")\n",
    "\n",
    "print(create_model_response[\"ModelArn\"])"
   ]
  },
  {
   "cell_type": "code",
   "execution_count": 27,
   "id": "df7d9902",
   "metadata": {},
   "outputs": [
    {
     "name": "stdout",
     "output_type": "stream",
     "text": [
      "xgboost-endpoint-config-2023-11-29-10-38-52\n",
      "Endpoint Config Arn: arn:aws:sagemaker:us-east-1:263245924849:endpoint-config/xgboost-endpoint-config-2023-11-29-10-38-52\n"
     ]
    }
   ],
   "source": [
    "# configuring endpoint with unique name based on current time\n",
    "xgboost_endpoint_config = \"xgboost-endpoint-config-\" + strftime(\"%Y-%m-%d-%H-%M-%S\", gmtime())\n",
    "print(xgboost_endpoint_config)\n",
    "create_endpoint_config_response = sm.create_endpoint_config(\n",
    "    EndpointConfigName=xgboost_endpoint_config,\n",
    "    ProductionVariants=[\n",
    "        {\n",
    "            \"InstanceType\": \"ml.m4.xlarge\",\n",
    "            \"InitialInstanceCount\": 1,\n",
    "            \"ModelName\": xgboost_job,\n",
    "            \"VariantName\": \"AllTraffic\",\n",
    "        }\n",
    "    ],\n",
    ")\n",
    "\n",
    "print(\"Endpoint Config Arn: \" + create_endpoint_config_response[\"EndpointConfigArn\"])"
   ]
  },
  {
   "cell_type": "code",
   "execution_count": 28,
   "id": "4e070be2",
   "metadata": {},
   "outputs": [
    {
     "name": "stdout",
     "output_type": "stream",
     "text": [
      "xgboost-endpoint-202311291038\n",
      "arn:aws:sagemaker:us-east-1:263245924849:endpoint/xgboost-endpoint-202311291038\n",
      "Status: Creating\n",
      "Arn: arn:aws:sagemaker:us-east-1:263245924849:endpoint/xgboost-endpoint-202311291038\n",
      "Status: InService\n",
      "CPU times: user 66.7 ms, sys: 10.5 ms, total: 77.3 ms\n",
      "Wall time: 4min 31s\n"
     ]
    }
   ],
   "source": [
    "%%time\n",
    "\n",
    "# configuring, creating, waiting and then checking the status again of an endpoint\n",
    "xgboost_endpoint = \"xgboost-endpoint-\" + strftime(\"%Y%m%d%H%M\", gmtime())\n",
    "print(xgboost_endpoint)\n",
    "create_endpoint_response = sm.create_endpoint(\n",
    "    EndpointName=xgboost_endpoint, EndpointConfigName=xgboost_endpoint_config\n",
    ")\n",
    "print(create_endpoint_response[\"EndpointArn\"])\n",
    "\n",
    "resp = sm.describe_endpoint(EndpointName=xgboost_endpoint)\n",
    "status = resp[\"EndpointStatus\"]\n",
    "print(\"Status: \" + status)\n",
    "\n",
    "sm.get_waiter(\"endpoint_in_service\").wait(EndpointName=xgboost_endpoint)\n",
    "\n",
    "resp = sm.describe_endpoint(EndpointName=xgboost_endpoint)\n",
    "status = resp[\"EndpointStatus\"]\n",
    "print(\"Arn: \" + resp[\"EndpointArn\"])\n",
    "print(\"Status: \" + status)\n",
    "\n",
    "if status != \"InService\":\n",
    "    raise Exception(\"Endpoint creation did not succeed\")"
   ]
  },
  {
   "cell_type": "code",
   "execution_count": 29,
   "id": "c140bdc7",
   "metadata": {},
   "outputs": [],
   "source": [
    "def np2csv(arr):\n",
    "    csv = io.BytesIO() #the function gets an array (Numpy array) and creates an in-memory binary buffer named csv\n",
    "    np.savetxt(csv, arr, delimiter=\",\", fmt=\"%g\") # write the array 'arr' to csv object, columns should be seperated by commas. The fmt=\"%g\" removes unneccesary decimals when saving and use scientific notation.\n",
    "    # In the following line:\n",
    "    # csv.getvalue() retrieves the entire contents of the buffer csv as a byte string.\n",
    "    # .decode() converts the byte string into a normal Python string by decoding it using the default UTF-8 encoding.\n",
    "    #.rstrip() removes any trailing whitespace or newlines from the end of the string.\n",
    "    return csv.getvalue().decode().rstrip()"
   ]
  },
  {
   "cell_type": "code",
   "execution_count": 30,
   "id": "ab33a218",
   "metadata": {},
   "outputs": [],
   "source": [
    "import io, json\n",
    "runtime = boto3.client(\"runtime.sagemaker\")\n",
    "\n",
    "payload = np2csv(test_X)\n",
    "\n",
    "# invoking endpoint which is used to make a prediction request to the SageMaker endpoint.\n",
    "response = runtime.invoke_endpoint(\n",
    "    EndpointName=xgboost_endpoint, ContentType=\"text/csv\", Body=payload\n",
    ")\n",
    "result = response[\"Body\"].read().decode()\n",
    "test_pred = np.array(result.split(), dtype=float)\n",
    "#The following line:\n",
    "# extracts the prediction results from the result dictionary, from the \"predictions\" key.\n",
    "# It is a list of dictionaries where each dictionary has a key \"score\" representing the model's prediction. "
   ]
  },
  {
   "cell_type": "code",
   "execution_count": 31,
   "id": "ff76cf31",
   "metadata": {},
   "outputs": [
    {
     "name": "stdout",
     "output_type": "stream",
     "text": [
      "[9.98415470e-01 6.51976243e-02 9.86571074e-04 9.99178231e-01\n",
      " 1.73243898e-04 2.53340608e-04 4.07036918e-04 3.30916897e-04\n",
      " 9.96455669e-01 1.63403213e-01 9.99840617e-01 9.98433888e-01\n",
      " 9.88351285e-01 3.65357124e-03 9.43830993e-04 9.99089241e-01\n",
      " 9.99204934e-01 4.96111112e-04 9.45880592e-01 2.73457437e-04\n",
      " 3.69443558e-03 9.99973893e-01 9.99787509e-01 9.99150515e-01\n",
      " 1.35472347e-03 1.00702641e-03 9.90860701e-01 4.03581560e-03\n",
      " 9.99993801e-01 3.09708714e-03 9.13221083e-05 1.00886053e-03\n",
      " 7.27017250e-05 9.98390555e-01 1.85439567e-04 5.83300243e-05\n",
      " 9.98160064e-01 6.89945184e-04 8.73051467e-04 2.63073784e-03\n",
      " 1.53920345e-03 9.96970534e-01 3.81343183e-04 9.98047471e-01\n",
      " 9.99537945e-01 9.99066293e-01 1.75226503e-03 4.09703149e-04\n",
      " 1.69630290e-03 9.97729719e-01 9.99447405e-01 1.83378323e-03\n",
      " 1.08592212e-03 9.76142764e-01 4.92953649e-03 8.21287627e-04\n",
      " 9.92120504e-01 1.00334757e-03 1.64430807e-04 5.44261769e-04\n",
      " 1.69230253e-03 1.63819379e-04 1.28039427e-03 9.99798715e-01\n",
      " 9.99373019e-01 9.94821668e-01 9.99010801e-01 4.60856652e-04\n",
      " 9.58287681e-04 9.99337971e-01 9.02970552e-01 9.99266088e-01\n",
      " 3.27540538e-03 9.86561716e-01 4.27507533e-04 2.45035037e-01\n",
      " 9.83587746e-03 6.20088598e-04 9.99985337e-01 7.82952586e-04\n",
      " 1.39857898e-03 9.99804437e-01 2.46897643e-03 4.08798252e-04\n",
      " 9.99326587e-01 3.25090368e-04 1.45046844e-03 3.00802116e-04\n",
      " 4.98526394e-01 9.96470690e-01 9.99965906e-01 6.53086364e-01\n",
      " 9.98420715e-01 2.21077306e-03 3.96019500e-03 9.99815285e-01\n",
      " 9.97745097e-01 1.78189611e-03 8.86448145e-01 1.48835781e-04\n",
      " 3.52783332e-04 2.41508722e-04 4.14185505e-03 9.99949574e-01\n",
      " 9.87911224e-01 3.89819557e-04 9.97965813e-01 1.41421845e-03\n",
      " 8.87430310e-02 9.64863837e-01 9.99296784e-01 9.99371707e-01\n",
      " 9.21063572e-02 9.98959184e-01 9.88391459e-01 1.23110798e-03\n",
      " 4.81476658e-04 9.97667074e-01 5.01842052e-03 9.99025226e-01\n",
      " 9.60418224e-01 6.09228562e-04 9.97520626e-01 3.16331210e-03\n",
      " 9.83834386e-01 9.99964356e-01 1.46686239e-02 6.02690307e-05\n",
      " 4.77628797e-01 4.06082516e-04 5.62008820e-04 9.99316812e-01\n",
      " 9.99734938e-01 9.91602600e-01 9.99932885e-01 9.99849200e-01\n",
      " 7.99423200e-04 4.29080188e-04 9.99783695e-01 1.93309548e-04\n",
      " 1.50950002e-02 2.07412086e-04 1.64984819e-03 9.99487638e-01\n",
      " 9.98979092e-01 6.34955766e-04 9.92537320e-01 9.96989548e-01\n",
      " 9.99978065e-01 9.93804812e-01 2.46190690e-02 9.99955416e-01\n",
      " 9.80822719e-04 9.91710007e-01 3.85148704e-01 9.96932626e-01\n",
      " 9.99699354e-01 3.65654705e-05 2.48987854e-01 9.96612608e-01\n",
      " 9.99552667e-01 9.99455869e-01 9.95337725e-01 7.39259704e-04\n",
      " 9.98451829e-01 9.99955297e-01 9.97741103e-01 1.00714050e-03\n",
      " 9.99983549e-01 2.50547286e-02 9.99393702e-01 4.06061270e-04\n",
      " 3.61868530e-04 1.74379034e-03 2.94539658e-03 9.99854803e-01\n",
      " 9.92002487e-01 1.20213407e-03 9.95741844e-01 6.75464515e-04\n",
      " 4.20915568e-03 4.96541208e-04 7.00127006e-01 9.99881029e-01\n",
      " 2.14887128e-04 1.25574390e-03 9.27058160e-01 9.99764621e-01\n",
      " 1.35463953e-03 9.20559764e-01 9.86857891e-01 9.73960876e-01\n",
      " 1.52215071e-04 3.39469872e-04 1.00554083e-03 6.82110491e-04\n",
      " 1.14082696e-03 6.99147908e-03 9.96415615e-01 9.48468029e-01\n",
      " 1.88369857e-04 4.89657279e-04 9.97378826e-01 9.22871530e-01\n",
      " 9.92737353e-01 9.78770018e-01 9.86376941e-01 8.90331089e-01\n",
      " 1.45614933e-04 2.53340608e-04 9.99677181e-01 1.95742425e-04\n",
      " 8.19919223e-04 2.30379941e-04 2.75973114e-04 1.69435155e-03\n",
      " 9.82001126e-01 3.61868530e-04 1.54091613e-04 2.86008115e-03\n",
      " 5.59180856e-01 1.14413016e-02 3.52900266e-03 9.99464810e-01\n",
      " 9.95454073e-01 4.45567217e-04 9.99628782e-01 9.99207079e-01\n",
      " 1.15559588e-03 9.97134447e-01 9.94141400e-01 9.99955416e-01\n",
      " 3.71812843e-04 2.81096116e-04 8.65973998e-03 1.11542165e-03\n",
      " 9.90111053e-01 2.94719380e-03 6.69672096e-04 4.75304732e-05\n",
      " 6.68132852e-04 9.76035774e-01 1.96557981e-03 9.97754276e-01\n",
      " 9.99541044e-01 9.97580171e-01 9.98021603e-01 9.99993920e-01\n",
      " 9.98507440e-01 9.99818385e-01 9.99564707e-01 9.65073168e-01\n",
      " 9.93607521e-01 6.65130268e-04 5.99445601e-04 2.92654906e-04\n",
      " 9.99768198e-01 9.76798534e-01 9.85179365e-01 6.24329187e-02\n",
      " 1.00876298e-02 9.99780595e-01 9.99437273e-01 3.44763394e-05\n",
      " 2.57834494e-02 8.82726967e-01 9.98728812e-01 3.22007661e-04\n",
      " 8.22428148e-03 9.98301744e-01 9.99377549e-01 9.99852657e-01\n",
      " 9.99047339e-01 9.90342021e-01 9.99968171e-01 9.99805510e-01\n",
      " 5.20442352e-02 9.99668956e-01 1.83991354e-03 2.88073160e-03\n",
      " 4.84935241e-03 1.12926941e-02 9.84449923e-01 4.96812351e-02\n",
      " 9.99785602e-01 7.15043978e-04 2.11589402e-04 9.99931693e-01\n",
      " 9.97104704e-01 3.17352428e-03 9.70634748e-04 9.99283493e-01\n",
      " 7.65155593e-04 9.99684811e-01 9.99971151e-01 9.98945415e-01\n",
      " 6.02690307e-05 3.19837511e-01 9.97721016e-01 9.83932376e-01\n",
      " 9.99818146e-01 4.99819458e-01 9.12246764e-01 9.98228371e-01\n",
      " 3.04922723e-04 9.99698758e-01 1.04434113e-03 3.28953174e-04\n",
      " 8.20526155e-04 3.72083904e-03 8.28870514e-04 1.58896402e-03\n",
      " 9.99819338e-01 9.95286822e-01 1.67032238e-03 1.13855791e-03\n",
      " 1.82236766e-03 6.23235013e-04 9.99844313e-01 9.98215199e-01\n",
      " 2.02667154e-03 2.42347736e-03 9.99969959e-01 1.45761261e-03\n",
      " 1.20087338e-04 1.11221266e-03 9.95931208e-01 3.33049131e-04\n",
      " 9.99591768e-01 9.96984303e-01 1.48168008e-03 3.72818904e-04\n",
      " 9.99986291e-01 9.99988198e-01 2.78405234e-04 2.07427260e-03\n",
      " 1.86188307e-04 9.99712884e-01 9.73719478e-01 8.50994489e-04\n",
      " 1.07125414e-03 9.96629298e-01 2.42510810e-03 9.88432467e-01\n",
      " 1.86939869e-04 1.95742425e-04 9.99638200e-01 9.99817550e-01\n",
      " 2.56626896e-04 2.22380809e-03 1.38774078e-04 9.99984384e-01\n",
      " 1.12042772e-02 5.60810440e-04 9.99985695e-01 9.97686148e-01\n",
      " 9.99786079e-01 9.95492458e-01 9.92861569e-01 1.51428382e-03\n",
      " 3.72552080e-04 9.87474740e-01 9.99978304e-01 5.39246976e-01\n",
      " 9.98192847e-01 4.40225907e-04 9.99734461e-01 4.80955350e-04\n",
      " 5.61810557e-05 9.92554367e-01 2.35995380e-04 1.41658483e-03\n",
      " 1.88249676e-03 2.35969492e-04 2.00768191e-04 9.87074733e-01\n",
      " 1.89904007e-04 9.94868994e-01 9.99785125e-01 7.04169215e-05\n",
      " 9.39295113e-01 2.46281619e-03 3.44375352e-04 2.42180401e-03\n",
      " 2.38533306e-04 3.09104507e-04 9.99930024e-01 5.70497825e-04\n",
      " 9.99347031e-01 9.99975204e-01 9.99865651e-01 9.99948382e-01\n",
      " 6.00678939e-03 6.94419316e-04 9.93142366e-01 3.13013792e-03\n",
      " 1.50720240e-03 1.37184269e-03 9.97971117e-01 9.54649031e-01\n",
      " 5.54797065e-04 9.99975443e-01 9.87707436e-01 9.96206403e-01\n",
      " 9.85934556e-01 5.89124567e-04 9.78510380e-01 9.99625325e-01\n",
      " 1.92574263e-02 9.95326400e-01 9.99705732e-01 9.99870062e-01\n",
      " 9.97015715e-01 9.99632597e-01 9.97719586e-01 1.11225367e-04\n",
      " 5.45143092e-04 9.99768555e-01 9.99944687e-01 9.99974012e-01\n",
      " 2.04485492e-03 9.50774789e-01 9.95075881e-01 1.42291998e-02\n",
      " 1.08460907e-03 2.08652625e-03 2.65522161e-03 9.98600900e-01\n",
      " 5.18951798e-04 7.11058915e-01 9.99613822e-01 9.98345017e-01\n",
      " 1.70757563e-03 7.78317743e-04 9.99961853e-01 3.21354577e-03\n",
      " 7.57049565e-05 9.98867512e-01 5.21691982e-04 1.46073278e-03\n",
      " 8.79802883e-01 9.23418820e-01 7.29154842e-03 9.73550439e-01\n",
      " 9.85920608e-01 9.97865573e-04 4.54221095e-04 9.99478161e-01\n",
      " 3.49483395e-04 4.60347364e-04 3.84902835e-01 9.99652624e-01\n",
      " 4.16952133e-01 2.91077048e-01 2.77429877e-04 9.99581158e-01\n",
      " 5.06526325e-03 9.99911070e-01 9.99799907e-01 1.30695163e-03\n",
      " 5.53264865e-04 9.10588657e-04 6.44821848e-04 9.99574125e-01\n",
      " 1.83462224e-03 4.29629057e-04 1.94816571e-03 3.02594714e-03\n",
      " 8.05786054e-04 9.91898179e-01 2.60545686e-03 9.99708712e-01\n",
      " 2.96711165e-04 9.37373936e-01 1.20550173e-03 6.17591143e-01\n",
      " 2.84088105e-02 1.73097223e-01 9.99775708e-01 9.88013864e-01\n",
      " 9.99752939e-01 9.83557880e-01 9.99384880e-01 5.19370753e-03\n",
      " 9.98568416e-01 9.99537945e-01 2.77368526e-04 2.51169177e-03\n",
      " 7.18792249e-03 9.97686028e-01 9.99902129e-01 9.92529333e-01\n",
      " 9.99296784e-01 6.00104977e-04 9.99893427e-01 6.64349785e-03\n",
      " 2.74951337e-03 9.99613702e-01 2.44107610e-03 9.99817193e-01\n",
      " 9.96714234e-01 9.97991681e-01 9.99354661e-01 9.98351097e-01\n",
      " 1.07426278e-03 1.21748284e-03 1.95767730e-03 7.93940912e-04\n",
      " 7.32781172e-01 9.99294043e-01 9.99110997e-01 2.81537976e-03\n",
      " 9.81694520e-01 9.94165361e-01 6.07951893e-04 9.99330997e-01\n",
      " 4.12929105e-03 9.97724950e-01 8.01732019e-03 7.32588174e-04\n",
      " 6.02347252e-04 9.99786913e-01 9.99879003e-01 8.46222878e-01\n",
      " 9.99978781e-01 9.80922282e-01 3.05000081e-04 9.99934673e-01\n",
      " 1.00355933e-03 9.94668808e-04 9.89514351e-01 9.99950290e-01\n",
      " 9.98740733e-01 1.55534089e-01 4.82988049e-04 8.62671375e-01\n",
      " 9.98897910e-01 9.99961019e-01 8.22746098e-01 8.82754801e-04\n",
      " 3.18490504e-03 9.97848511e-01 9.93650973e-01 9.99731362e-01\n",
      " 6.85698120e-04 9.99865294e-01 2.27943950e-04 1.14841468e-03\n",
      " 9.97745574e-01 1.28359674e-02 3.20980549e-01 9.96074677e-01\n",
      " 1.09156594e-03 9.96863365e-01 9.98064339e-01 9.98570919e-01\n",
      " 3.20765853e-01 9.99945879e-01 9.49608922e-01 9.99854207e-01\n",
      " 1.54577394e-03 3.80252837e-03 6.48679957e-02 1.49994652e-04\n",
      " 9.94403243e-01 1.30390178e-03 5.85887767e-03 1.41658483e-03\n",
      " 9.73528385e-01 9.99918699e-01 2.11101631e-03 1.10928848e-01\n",
      " 2.18041101e-03 9.63833928e-01 9.99581993e-01 9.99908090e-01\n",
      " 9.59814429e-01 9.98480260e-01 1.47015182e-03 9.99114454e-01\n",
      " 9.93328214e-01 9.98794794e-01 1.20512408e-03 8.43659882e-03\n",
      " 9.93678391e-01 2.60084984e-04 1.71227686e-04 9.95516241e-01\n",
      " 1.45526938e-04 9.97552216e-01 9.99964476e-01 3.18086101e-03\n",
      " 9.97344553e-01 9.71964747e-02 9.90263104e-01 9.99827623e-01\n",
      " 9.99230504e-01 9.96096551e-01 9.93205786e-01 9.99312997e-01\n",
      " 5.34611056e-03 9.36185718e-01 5.29671572e-02 3.90257541e-04\n",
      " 9.08854783e-01 3.98201644e-01 9.75912571e-01 1.76040921e-04\n",
      " 9.99971747e-01 4.38554707e-04 9.99579728e-01 2.41423002e-03\n",
      " 9.99993086e-01 9.99941349e-01 9.94581997e-01 9.96275187e-01\n",
      " 1.30847991e-02 5.73835790e-01 5.83309331e-04 3.80693673e-05\n",
      " 2.26347432e-01 9.99970317e-01 9.99770939e-01 8.38460634e-04\n",
      " 9.57278013e-01 1.98052148e-03 9.99711931e-01 1.97904855e-01\n",
      " 2.24280497e-03 1.02865286e-02 9.99543071e-01 1.13049033e-03\n",
      " 5.28083823e-04 9.95500982e-01 7.92055205e-03 6.42545102e-03\n",
      " 3.27514559e-02 5.76767547e-04 9.78748858e-01 5.57592604e-03\n",
      " 7.31198967e-01 9.98637617e-01 9.99928474e-01 9.99746025e-01\n",
      " 2.88134962e-02 9.99855399e-01 9.98802900e-01 9.69057560e-01\n",
      " 9.99573648e-01 5.76575752e-04 1.15750392e-03 9.66965437e-01\n",
      " 7.05837226e-03 9.89086270e-01 5.32725651e-04 9.99168277e-01\n",
      " 9.15971061e-04 9.99829769e-01 5.25186479e-04 9.99941349e-01\n",
      " 6.28348789e-04 4.49231069e-04 3.07958777e-04 2.07776669e-02\n",
      " 4.92486652e-05 9.99221563e-01 1.43533194e-04 9.99423862e-01\n",
      " 9.99351323e-01 9.99578774e-01 9.99845147e-01 3.84980952e-03\n",
      " 9.96070147e-01 2.81229353e-04 9.99924898e-01 9.99986768e-01\n",
      " 9.99168754e-01 1.00165792e-03 2.08586527e-04 1.26855040e-04\n",
      " 5.41789748e-04 2.39957124e-04 6.86027762e-03 9.95366216e-01\n",
      " 9.95295346e-01 3.12178308e-04 9.00597719e-04 2.94880266e-03\n",
      " 9.99635935e-01 9.63800251e-01 3.47892731e-01 9.99265969e-01\n",
      " 4.52935237e-05 5.70295844e-04 6.15545781e-04 9.96565282e-01\n",
      " 2.66522606e-04 2.53340608e-04 9.35267508e-01 1.65829416e-02\n",
      " 9.98855233e-01 9.99958277e-01 9.59771693e-01 4.22770390e-05\n",
      " 2.63298466e-03 7.96247050e-02 9.08272434e-03 6.56237418e-04\n",
      " 9.69309032e-01 2.43451184e-04 3.44763394e-05 2.57060368e-04\n",
      " 9.99661446e-01 9.99992013e-01 2.77490995e-04 9.05441266e-05\n",
      " 9.67173815e-01 9.97661352e-01 9.63695407e-01 8.25882733e-01\n",
      " 9.93206024e-01 9.99963760e-01 9.83063877e-01 9.99974728e-01\n",
      " 9.18326550e-04 1.02845137e-03 1.69729348e-02 9.78335977e-01\n",
      " 4.53543762e-04 9.99326468e-01 9.99993086e-01 9.94811654e-01\n",
      " 2.97022780e-04 9.98575926e-01 3.57235142e-04 9.98733699e-01\n",
      " 2.58431101e-04 9.99431670e-01 9.26235691e-04 9.96706188e-01\n",
      " 9.98515666e-01 9.99715745e-01 1.25547242e-03 9.97707248e-01\n",
      " 2.32871491e-04 3.41556035e-02 2.54171900e-03 1.93902031e-02\n",
      " 9.99979019e-01 9.99915957e-01 1.09445661e-01 9.30074096e-01\n",
      " 9.99970436e-01 1.27894932e-03 6.63764367e-04 9.99855280e-01\n",
      " 9.99490261e-01 9.82594073e-01 9.99942303e-01 1.02107017e-03\n",
      " 9.96059179e-01 9.98224080e-01 6.38087392e-01 9.99966621e-01\n",
      " 9.78274822e-01 1.06520856e-04 2.71412748e-04 9.62677181e-01\n",
      " 9.91968930e-01 9.12605941e-01 2.12947745e-03 9.99992490e-01\n",
      " 9.96426046e-01 5.83921326e-03 9.98643577e-01 5.60192857e-04\n",
      " 9.97979701e-01 3.32711427e-03 5.46358433e-03 7.36155629e-01\n",
      " 5.13010658e-04 9.98846531e-01 8.61116394e-04 9.94595945e-01\n",
      " 6.00949745e-04 9.70327437e-01 9.99786675e-01 5.91165212e-04\n",
      " 8.78268573e-03 4.06322244e-04 9.80210125e-01 9.65334475e-01\n",
      " 9.94686723e-01 5.51816123e-03 7.81588024e-04 9.96806622e-01\n",
      " 9.99945402e-01 8.07222165e-03 1.15977041e-03 9.99769509e-01\n",
      " 5.80988883e-04 9.99972582e-01 9.99967813e-01 9.99916792e-01\n",
      " 9.99207079e-01 9.92424369e-01 9.88742709e-01 2.88380287e-03\n",
      " 6.09559123e-04 3.02622048e-03 2.02281954e-04 9.99869704e-01\n",
      " 1.01698784e-03 3.96260410e-04 2.53340608e-04 9.82494652e-01\n",
      " 7.35037145e-04 3.08058597e-03 5.29389130e-04 1.17151989e-02\n",
      " 9.98363435e-01 9.95931447e-01 6.78606506e-04 2.23812764e-03\n",
      " 9.99970436e-01 9.83445466e-01 9.98058021e-01 1.68775464e-03\n",
      " 9.99948144e-01 9.98335302e-01 1.24799227e-03 9.98882949e-01\n",
      " 9.99251544e-01 3.05259571e-04 9.86430764e-01 9.98982370e-01\n",
      " 1.20788347e-03 9.97809112e-01 5.55722462e-03 9.99372780e-01\n",
      " 9.99814570e-01 1.47387059e-03 3.40000552e-04 4.49107867e-03\n",
      " 9.94651616e-01 2.38312478e-03 3.89706925e-03 1.11852678e-04\n",
      " 1.63579755e-03 8.32905173e-01 8.75174522e-01 9.93947148e-01\n",
      " 9.99776661e-01 9.30432796e-01 9.99567807e-01 8.93163774e-03\n",
      " 3.58747377e-04 9.99997973e-01 9.99986649e-01 3.45211886e-02\n",
      " 9.86981332e-01 1.47586139e-02 9.99529123e-01 3.00802116e-04\n",
      " 9.93324816e-01 2.87322582e-05 9.99964714e-01 8.86226946e-04\n",
      " 5.20332484e-04 9.99597847e-01 6.01116836e-01 6.94303913e-03\n",
      " 9.99028444e-01 3.45689914e-04 9.99879479e-01 7.19867647e-03\n",
      " 9.99484181e-01 1.01989531e-03 9.99987006e-01 9.99752104e-01\n",
      " 9.99891639e-01 9.99713242e-01 1.43347336e-02 1.04716010e-02\n",
      " 9.98512924e-01 2.04794924e-04 9.99408603e-01 1.29268633e-03\n",
      " 6.41420018e-04 6.19297207e-04 3.29513452e-04 9.29048121e-01\n",
      " 9.35965002e-01 9.93842244e-01 9.99046624e-01 9.99118865e-01\n",
      " 4.15229285e-03 8.24929535e-01 6.66680746e-04 1.33540970e-03\n",
      " 9.79358733e-01 2.31844163e-03 2.10356973e-02 2.24601682e-02\n",
      " 9.98987496e-01 1.23534538e-02 9.98786986e-01 1.29046981e-04\n",
      " 9.82111931e-01 9.93379951e-01 9.98021841e-01 3.03947721e-02\n",
      " 7.77824689e-03 9.84496474e-01 9.90556180e-01 2.58868095e-03\n",
      " 9.99995470e-01 1.80547917e-03 1.95083190e-02 9.93783593e-01\n",
      " 9.99353468e-01 7.16644048e-04 3.45689914e-04 9.91707742e-01\n",
      " 4.08082502e-03 5.84554218e-05 9.96829450e-01 1.14822702e-03\n",
      " 9.99735177e-01 6.84861559e-04 4.91851708e-04 9.99751031e-01\n",
      " 9.58580494e-01 9.70729649e-01 1.45492731e-02 3.81650752e-03\n",
      " 9.99408603e-01 9.70893889e-05 9.99767363e-01 1.69315157e-04\n",
      " 9.98525441e-01 9.90948498e-01 1.91142404e-04 8.58104467e-01\n",
      " 1.93037209e-03 9.99836922e-01 7.86655233e-04 9.99974489e-01\n",
      " 9.97935534e-01 3.68929934e-04 1.17114671e-02 5.86553812e-01\n",
      " 9.98348951e-01 9.97000635e-01 9.30018723e-01 9.99975562e-01\n",
      " 4.70302347e-03 7.06660736e-04 9.98596609e-01 9.96838450e-01\n",
      " 6.00512475e-02 9.95561957e-01 7.38064468e-01 9.95944560e-01\n",
      " 2.11589402e-04 9.97001231e-01 9.99864221e-01 9.93278444e-01\n",
      " 1.12513915e-01 3.83688130e-05 6.04067405e-04 3.63688538e-04\n",
      " 9.86157537e-01 6.53835479e-04 9.97964740e-01 5.67538152e-03\n",
      " 1.66161895e-01 9.98869836e-01 1.71238601e-01 9.99548137e-01\n",
      " 8.11111298e-04 1.46389811e-03 2.65216897e-03 9.97264266e-01\n",
      " 1.60762423e-03 9.63114858e-01 9.99453604e-01 9.99909639e-01\n",
      " 9.99787867e-01 9.94633913e-01 9.99521494e-01 9.98571515e-01\n",
      " 3.84263003e-05 9.99994040e-01 9.99683976e-01 9.95435536e-01\n",
      " 9.98821914e-01 2.60889592e-05 2.02696677e-03 1.03021724e-04]\n"
     ]
    }
   ],
   "source": [
    "print(test_pred)"
   ]
  },
  {
   "cell_type": "code",
   "execution_count": 32,
   "id": "513a44b9",
   "metadata": {},
   "outputs": [
    {
     "name": "stdout",
     "output_type": "stream",
     "text": [
      "Accuracy: 0.9780\n",
      "Precision: 0.9665\n",
      "Recall: 0.9899\n",
      "F1 Score: 0.9780\n",
      "ROC AUC: 0.9982\n"
     ]
    },
    {
     "data": {
      "image/png": "[encoded data removed]",
      "text/plain": [
       "<Figure size 800x600 with 1 Axes>"
      ]
     },
     "metadata": {},
     "output_type": "display_data"
    },
    {
     "name": "stdout",
     "output_type": "stream",
     "text": [
      "Confusion Matrix:\n",
      "[[488  17]\n",
      " [  5 490]]\n"
     ]
    }
   ],
   "source": [
    "from sklearn.metrics import accuracy_score, precision_score, recall_score, f1_score, roc_auc_score, roc_curve, confusion_matrix\n",
    "import matplotlib.pyplot as plt\n",
    "\n",
    "# Assuming test_y and test_pred are your true labels and predicted probabilities\n",
    "\n",
    "# Convert probabilities to binary predictions (0 or 1)\n",
    "test_pred_class = (test_pred > 0.5).astype(int)\n",
    "\n",
    "# Calculate and print accuracy\n",
    "accuracy = accuracy_score(test_y, test_pred_class)\n",
    "print(f'Accuracy: {accuracy:.4f}')\n",
    "\n",
    "# Calculate and print precision, recall, and F1 score\n",
    "precision = precision_score(test_y, test_pred_class)\n",
    "recall = recall_score(test_y, test_pred_class)\n",
    "f1 = f1_score(test_y, test_pred_class)\n",
    "\n",
    "print(f'Precision: {precision:.4f}')\n",
    "print(f'Recall: {recall:.4f}')\n",
    "print(f'F1 Score: {f1:.4f}')\n",
    "\n",
    "# Calculate and print ROC AUC\n",
    "roc_auc = roc_auc_score(test_y, test_pred)\n",
    "print(f'ROC AUC: {roc_auc:.4f}')\n",
    "\n",
    "# Plot ROC curve\n",
    "fpr, tpr, thresholds = roc_curve(test_y, test_pred)\n",
    "plt.figure(figsize=(8, 6))\n",
    "plt.plot(fpr, tpr, color='darkorange', lw=2, label='ROC curve')\n",
    "plt.plot([0, 1], [0, 1], color='navy', lw=2, linestyle='--')\n",
    "plt.xlabel('False Positive Rate')\n",
    "plt.ylabel('True Positive Rate')\n",
    "plt.title('Receiver Operating Characteristic (ROC) Curve')\n",
    "plt.legend(loc='lower right')\n",
    "plt.show()\n",
    "\n",
    "# Print confusion matrix\n",
    "conf_matrix = confusion_matrix(test_y, test_pred_class)\n",
    "print('Confusion Matrix:')\n",
    "print(conf_matrix)"
   ]
  },
  {
   "cell_type": "code",
   "execution_count": 33,
   "id": "ba0505a5",
   "metadata": {},
   "outputs": [
    {
     "data": {
      "text/plain": [
       "{'ResponseMetadata': {'RequestId': '06c965e7-58bc-4d89-844f-7e766aeb0928',\n",
       "  'HTTPStatusCode': 200,\n",
       "  'HTTPHeaders': {'x-amzn-requestid': '06c965e7-58bc-4d89-844f-7e766aeb0928',\n",
       "   'content-type': 'application/x-amz-json-1.1',\n",
       "   'content-length': '0',\n",
       "   'date': 'Wed, 29 Nov 2023 10:45:27 GMT'},\n",
       "  'RetryAttempts': 0}}"
      ]
     },
     "execution_count": 33,
     "metadata": {},
     "output_type": "execute_result"
    }
   ],
   "source": [
    "sm.delete_endpoint(EndpointName=xgboost_endpoint)"
   ]
  },
  {
   "cell_type": "code",
   "execution_count": null,
   "id": "748b9b39",
   "metadata": {},
   "outputs": [],
   "source": []
  }
 ],
 "metadata": {
  "kernelspec": {
   "display_name": "conda_python3",
   "language": "python",
   "name": "conda_python3"
  },
  "language_info": {
   "codemirror_mode": {
    "name": "ipython",
    "version": 3
   },
   "file_extension": ".py",
   "mimetype": "text/x-python",
   "name": "python",
   "nbconvert_exporter": "python",
   "pygments_lexer": "ipython3",
   "version": "3.10.13"
  }
 },
 "nbformat": 4,
 "nbformat_minor": 5
}
